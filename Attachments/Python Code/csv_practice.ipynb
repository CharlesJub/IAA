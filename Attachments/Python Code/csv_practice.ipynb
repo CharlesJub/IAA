{
 "cells": [
  {
   "cell_type": "code",
   "execution_count": 10,
   "metadata": {},
   "outputs": [
    {
     "name": "stdout",
     "output_type": "stream",
     "text": [
      "Los Angeles County has the highest pop at 9889056\n"
     ]
    }
   ],
   "source": [
    "import csv\n",
    "with open('pop.csv', 'r', newline='', encoding='latin') as inp:\n",
    "    reader = csv.reader(inp)\n",
    "    header = next(reader)\n",
    "    max_pop = 0\n",
    "    max_pop_city = ''\n",
    "    for row in reader:\n",
    "        if row[6] != row[7]: # check if row is a state \n",
    "            pop = int( row[ 11 ] ) # get pop for current row\n",
    "            if pop > max_pop: # check if current pop is bigger than max\n",
    "                max_pop = pop\n",
    "                max_pop_city = row[ 6 ]\n",
    "    \n",
    "    print(f\"{max_pop_city} has the highest pop at {max_pop}\")"
   ]
  },
  {
   "cell_type": "code",
   "execution_count": null,
   "metadata": {},
   "outputs": [],
   "source": []
  }
 ],
 "metadata": {
  "kernelspec": {
   "display_name": "base",
   "language": "python",
   "name": "python3"
  },
  "language_info": {
   "codemirror_mode": {
    "name": "ipython",
    "version": 3
   },
   "file_extension": ".py",
   "mimetype": "text/x-python",
   "name": "python",
   "nbconvert_exporter": "python",
   "pygments_lexer": "ipython3",
   "version": "3.12.4"
  }
 },
 "nbformat": 4,
 "nbformat_minor": 2
}
