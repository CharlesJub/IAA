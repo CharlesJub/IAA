{
 "cells": [
  {
   "cell_type": "markdown",
   "metadata": {},
   "source": [
    "# Cows and Bulls"
   ]
  },
  {
   "cell_type": "code",
   "execution_count": 14,
   "metadata": {},
   "outputs": [
    {
     "name": "stdout",
     "output_type": "stream",
     "text": [
      "0061\n",
      "Right Answer\n"
     ]
    }
   ],
   "source": [
    "import random\n",
    "\n",
    "target = str(random.randint(0,9999)).zfill(4)\n",
    "\n",
    "t_cow,t_bull = 0,0\n",
    "user =\"\"\n",
    "print(target)\n",
    "while True:\n",
    "    \n",
    "    user = input(\"Enter a number 0-9999:\").zfill(4)\n",
    "    \n",
    "    if target == user:\n",
    "        print(f\"Nice Work! {target} is the number\")\n",
    "        break\n",
    "    \n",
    "    for idx in range(len(user)):\n",
    "        if target[idx] == user[idx]:\n",
    "            t_cow += 1\n",
    "        else:\n",
    "            t_bull += 1\n",
    "\n",
    "    print(f\"Your guess: {user} \\n Cow: {t_cow} \\n Bulls: {t_bull}\")\n",
    "    \n",
    "    \n",
    "    \n",
    "    "
   ]
  },
  {
   "cell_type": "markdown",
   "metadata": {},
   "source": [
    "# Birthday Plots"
   ]
  },
  {
   "cell_type": "code",
   "execution_count": 11,
   "metadata": {},
   "outputs": [
    {
     "name": "stdout",
     "output_type": "stream",
     "text": [
      "31\n",
      "30\n",
      "31\n",
      "31\n",
      "31\n",
      "29\n",
      "31\n",
      "30\n",
      "29\n",
      "31\n",
      "31\n",
      "31\n"
     ]
    }
   ],
   "source": [
    "import random\n",
    "from calendar import monthrange\n",
    "\n",
    "num_bday = int(input(\"How many birthdays in a year?\"))\n",
    "\n",
    "for n in range(num_bday):\n",
    "    month = random.randint(1,12)\n",
    "    m_days = monthrange(2024,month)[1]\n",
    "    \n"
   ]
  },
  {
   "cell_type": "code",
   "execution_count": null,
   "metadata": {},
   "outputs": [],
   "source": []
  }
 ],
 "metadata": {
  "kernelspec": {
   "display_name": "base",
   "language": "python",
   "name": "python3"
  },
  "language_info": {
   "codemirror_mode": {
    "name": "ipython",
    "version": 3
   },
   "file_extension": ".py",
   "mimetype": "text/x-python",
   "name": "python",
   "nbconvert_exporter": "python",
   "pygments_lexer": "ipython3",
   "version": "3.12.4"
  }
 },
 "nbformat": 4,
 "nbformat_minor": 2
}
