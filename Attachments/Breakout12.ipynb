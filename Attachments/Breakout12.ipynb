{
 "cells": [
  {
   "cell_type": "markdown",
   "metadata": {},
   "source": [
    "# Data\n",
    "You can obtain the dataset by running the following code:"
   ]
  },
  {
   "cell_type": "code",
   "execution_count": 1,
   "metadata": {
    "vscode": {
     "languageId": "r"
    }
   },
   "outputs": [
    {
     "name": "stderr",
     "output_type": "stream",
     "text": [
      "-- \u001b[1mAttaching core tidyverse packages\u001b[22m ------------------------ tidyverse 2.0.0 --\n",
      "\u001b[32mv\u001b[39m \u001b[34mdplyr    \u001b[39m 1.1.4     \u001b[32mv\u001b[39m \u001b[34mreadr    \u001b[39m 2.1.5\n",
      "\u001b[32mv\u001b[39m \u001b[34mforcats  \u001b[39m 1.0.0     \u001b[32mv\u001b[39m \u001b[34mstringr  \u001b[39m 1.5.1\n",
      "\u001b[32mv\u001b[39m \u001b[34mggplot2  \u001b[39m 3.5.1     \u001b[32mv\u001b[39m \u001b[34mtibble   \u001b[39m 3.2.1\n",
      "\u001b[32mv\u001b[39m \u001b[34mlubridate\u001b[39m 1.9.3     \u001b[32mv\u001b[39m \u001b[34mtidyr    \u001b[39m 1.3.1\n",
      "\u001b[32mv\u001b[39m \u001b[34mpurrr    \u001b[39m 1.0.2     \n",
      "-- \u001b[1mConflicts\u001b[22m ------------------------------------------ tidyverse_conflicts() --\n",
      "\u001b[31mx\u001b[39m \u001b[34mdplyr\u001b[39m::\u001b[32mfilter()\u001b[39m masks \u001b[34mstats\u001b[39m::filter()\n",
      "\u001b[31mx\u001b[39m \u001b[34mdplyr\u001b[39m::\u001b[32mlag()\u001b[39m    masks \u001b[34mstats\u001b[39m::lag()\n",
      "\u001b[36mi\u001b[39m Use the conflicted package (\u001b[3m\u001b[34m<http://conflicted.r-lib.org/>\u001b[39m\u001b[23m) to force all conflicts to become errors\n"
     ]
    }
   ],
   "source": [
    "library(tidyverse)\n",
    "bike <- read.csv('https://raw.githubusercontent.com/IAA-Faculty/statistical_foundations/master/bike.csv')"
   ]
  },
  {
   "cell_type": "markdown",
   "metadata": {},
   "source": [
    "# Questions\n",
    "1. Run the follwing code to get the training and test split:"
   ]
  },
  {
   "cell_type": "code",
   "execution_count": 2,
   "metadata": {
    "vscode": {
     "languageId": "r"
    }
   },
   "outputs": [],
   "source": [
    "set.seed(123)\n",
    "bike <- bike %>% mutate(id = row_number())\n",
    "train <- bike %>% sample_frac(0.7)\n",
    "test <- anti_join(bike, train, by = 'id')"
   ]
  },
  {
   "cell_type": "markdown",
   "metadata": {},
   "source": [
    "2. There are abnormal times where the number of casual users is greater than or equal to the\n",
    "number of registered users. You can use the following code to create a variable casual_high that\n",
    "captures this:"
   ]
  },
  {
   "cell_type": "code",
   "execution_count": 3,
   "metadata": {
    "vscode": {
     "languageId": "r"
    }
   },
   "outputs": [],
   "source": [
    "train$casual_high <- train$casual >= train$registered"
   ]
  },
  {
   "cell_type": "markdown",
   "metadata": {},
   "source": [
    "3. You want to know if the occurrence of these times is related to the season of the year. Even\n",
    "though season is ordinal, you want to just test a general association and not a linear one so use\n",
    "the Pearson Chi-square test. What do you find at a significance level of 0.001? If you were to\n",
    "perform a Mantel-Haenszel Chi-square test, would you reach the same conclusion?"
   ]
  },
  {
   "cell_type": "code",
   "execution_count": 4,
   "metadata": {
    "vscode": {
     "languageId": "r"
    }
   },
   "outputs": [
    {
     "data": {
      "text/plain": [
       "\n",
       "\tPearson's Chi-squared test\n",
       "\n",
       "data:  table(train$casual_high, train$season)\n",
       "X-squared = 29.74, df = 3, p-value = 1.565e-06\n"
      ]
     },
     "metadata": {},
     "output_type": "display_data"
    }
   ],
   "source": [
    "## Pearson Chi-Square Test\n",
    "chisq.test(table(train$casual_high, train$season))"
   ]
  },
  {
   "cell_type": "markdown",
   "metadata": {},
   "source": [
    "The Pearson Chi-Square Test says that there is a significant relationship between season and the high number of casual riders"
   ]
  },
  {
   "cell_type": "code",
   "execution_count": 6,
   "metadata": {
    "vscode": {
     "languageId": "r"
    }
   },
   "outputs": [
    {
     "name": "stderr",
     "output_type": "stream",
     "text": [
      "Loading required package: vcd\n",
      "\n",
      "Loading required package: grid\n",
      "\n",
      "Loading required package: gnm\n",
      "\n",
      "\n",
      "Attaching package: 'vcdExtra'\n",
      "\n",
      "\n",
      "The following object is masked from 'package:dplyr':\n",
      "\n",
      "    summarise\n",
      "\n",
      "\n"
     ]
    },
    {
     "data": {
      "text/html": [
       "<style>\n",
       ".dl-inline {width: auto; margin:0; padding: 0}\n",
       ".dl-inline>dt, .dl-inline>dd {float: none; width: auto; display: inline-block}\n",
       ".dl-inline>dt::after {content: \":\\0020\"; padding-right: .5ex}\n",
       ".dl-inline>dt:not(:first-of-type) {padding-left: .5ex}\n",
       "</style><dl class=dl-inline><dt>Chisq</dt><dd>5.50559130631597</dd><dt>Df</dt><dd>1</dd><dt>Prob</dt><dd>0.0189557699990231</dd></dl>\n"
      ],
      "text/latex": [
       "\\begin{description*}\n",
       "\\item[Chisq] 5.50559130631597\n",
       "\\item[Df] 1\n",
       "\\item[Prob] 0.0189557699990231\n",
       "\\end{description*}\n"
      ],
      "text/markdown": [
       "Chisq\n",
       ":   5.50559130631597Df\n",
       ":   1Prob\n",
       ":   0.0189557699990231\n",
       "\n"
      ],
      "text/plain": [
       "     Chisq         Df       Prob \n",
       "5.50559131 1.00000000 0.01895577 "
      ]
     },
     "metadata": {},
     "output_type": "display_data"
    }
   ],
   "source": [
    "## Mantel-Haenszel Chi-square test\n",
    "library(vcdExtra) \n",
    "CMHtest(table(train$casual_high, train$season))$table[1,]"
   ]
  },
  {
   "cell_type": "markdown",
   "metadata": {},
   "source": [
    "The Mantel-Haenszel Chi-square test says that there is not a significant association in the season and the high level of casual riders."
   ]
  },
  {
   "cell_type": "markdown",
   "metadata": {},
   "source": [
    "4. You also want to know if the occurrence of these times is related to the whether the day is a\n",
    "holiday or not. Perform the appropriate chi-squared test to test this association as well as an\n",
    "odds ratio for a measure of strength. What do you find at a significance level of 0.001? Interpret\n",
    "the odds ratio."
   ]
  },
  {
   "cell_type": "code",
   "execution_count": 7,
   "metadata": {
    "vscode": {
     "languageId": "r"
    }
   },
   "outputs": [
    {
     "data": {
      "text/plain": [
       "\n",
       "\tPearson's Chi-squared test with Yates' continuity correction\n",
       "\n",
       "data:  table(train$casual_high, train$holiday)\n",
       "X-squared = 36.156, df = 1, p-value = 1.822e-09\n"
      ]
     },
     "metadata": {},
     "output_type": "display_data"
    }
   ],
   "source": [
    "chisq.test(table(train$casual_high, train$holiday))"
   ]
  },
  {
   "cell_type": "code",
   "execution_count": 10,
   "metadata": {
    "vscode": {
     "languageId": "r"
    }
   },
   "outputs": [
    {
     "data": {
      "text/html": [
       "3.45525291828794"
      ],
      "text/latex": [
       "3.45525291828794"
      ],
      "text/markdown": [
       "3.45525291828794"
      ],
      "text/plain": [
       "[1] 3.455253"
      ]
     },
     "metadata": {},
     "output_type": "display_data"
    }
   ],
   "source": [
    "library(DescTools) \n",
    "OddsRatio(table(train$casual_high, train$holiday))"
   ]
  },
  {
   "cell_type": "code",
   "execution_count": 11,
   "metadata": {
    "vscode": {
     "languageId": "r"
    }
   },
   "outputs": [
    {
     "name": "stderr",
     "output_type": "stream",
     "text": [
      "Registered S3 method overwritten by 'gdata':\n",
      "  method         from     \n",
      "  reorder.factor DescTools\n",
      "\n"
     ]
    },
    {
     "name": "stdout",
     "output_type": "stream",
     "text": [
      "\n",
      " \n",
      "   Cell Contents\n",
      "|-------------------------|\n",
      "|                       N |\n",
      "| Chi-square contribution |\n",
      "|           N / Row Total |\n",
      "|           N / Col Total |\n",
      "|         N / Table Total |\n",
      "|-------------------------|\n",
      "\n",
      " \n",
      "Total Observations in Table:  12165 \n",
      "\n",
      " \n",
      "                  | train$holiday \n",
      "train$casual_high |         0 |         1 | Row Total | \n",
      "------------------|-----------|-----------|-----------|\n",
      "            FALSE |     11544 |       338 |     11882 | \n",
      "                  |     0.027 |     0.865 |           | \n",
      "                  |     0.972 |     0.028 |     0.977 | \n",
      "                  |     0.978 |     0.929 |           | \n",
      "                  |     0.949 |     0.028 |           | \n",
      "------------------|-----------|-----------|-----------|\n",
      "             TRUE |       257 |        26 |       283 | \n",
      "                  |     1.120 |    36.299 |           | \n",
      "                  |     0.908 |     0.092 |     0.023 | \n",
      "                  |     0.022 |     0.071 |           | \n",
      "                  |     0.021 |     0.002 |           | \n",
      "------------------|-----------|-----------|-----------|\n",
      "     Column Total |     11801 |       364 |     12165 | \n",
      "                  |     0.970 |     0.030 |           | \n",
      "------------------|-----------|-----------|-----------|\n",
      "\n",
      " \n"
     ]
    }
   ],
   "source": [
    "library(gmodels)\n",
    "CrossTable(train$casual_high, train$holiday)"
   ]
  }
 ],
 "metadata": {
  "kernelspec": {
   "display_name": "R",
   "language": "R",
   "name": "ir"
  },
  "language_info": {
   "codemirror_mode": "r",
   "file_extension": ".r",
   "mimetype": "text/x-r-source",
   "name": "R",
   "pygments_lexer": "r",
   "version": "4.4.0"
  }
 },
 "nbformat": 4,
 "nbformat_minor": 2
}
