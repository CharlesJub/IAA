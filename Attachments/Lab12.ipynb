{
 "cells": [
  {
   "cell_type": "markdown",
   "metadata": {},
   "source": [
    "1. Data were collected in an effort to relate the safety of certain vehicles to different aspects of\n",
    "those vehicles. To obtain this data, submit the following code:"
   ]
  },
  {
   "cell_type": "code",
   "execution_count": 2,
   "metadata": {
    "vscode": {
     "languageId": "r"
    }
   },
   "outputs": [],
   "source": [
    "safety <- read.csv('https://raw.githubusercontent.com/IAA-Faculty/statistical_foundations/master/safety.csv')"
   ]
  },
  {
   "cell_type": "markdown",
   "metadata": {},
   "source": [
    "Perform the following analysis:\n",
    "\n",
    "a. Which variables are continuous, nominal, ordinal\n",
    "- Unsafe: Ordinal\n",
    "- Type: Nominal\n",
    "- Weight: Ordinal\n",
    "- Region: Ordinal\n",
    "- Size: Ordinal\n",
    "\n"
   ]
  },
  {
   "cell_type": "markdown",
   "metadata": {},
   "source": [
    "b. Examine the association between Region and Unsafe.\n",
    "\n",
    "a. What percentage of cars manufactured in Asia were classified as unsafe?\n",
    "\n",
    "0.429\n",
    "\n",
    "b. What percentage of cars classified as safe were manufactured in North\n",
    "America?\n",
    "\n",
    "0.754\n",
    "\n",
    "c. What is the appropriate test to use?\n",
    "\n",
    "Chi-Squared -> Odds Ratio\n",
    "\n",
    "i. State the null and alternative hypothesis for the test.\n",
    "\n",
    "Null: No Association between Region and Car Safety\n",
    "\n",
    "Alternative: There is an association between Region and Car Safety \n",
    "\n",
    "ii. At an alpha of 0.05, what is your decision?\n",
    "\n",
    "There is no significant association between Region and Car Safety\n",
    "\n",
    "d. Regardless of significance, interpret the odds ratio in the context of the\n",
    "problem.\n",
    "\n"
   ]
  },
  {
   "cell_type": "code",
   "execution_count": 3,
   "metadata": {
    "vscode": {
     "languageId": "r"
    }
   },
   "outputs": [
    {
     "name": "stdout",
     "output_type": "stream",
     "text": [
      "\n",
      " \n",
      "   Cell Contents\n",
      "|-------------------------|\n",
      "|                       N |\n",
      "| Chi-square contribution |\n",
      "|           N / Row Total |\n",
      "|           N / Col Total |\n",
      "|         N / Table Total |\n",
      "|-------------------------|\n",
      "\n",
      " \n",
      "Total Observations in Table:  96 \n",
      "\n",
      " \n",
      "             |  \n",
      "             |         0 |         1 | Row Total | \n",
      "-------------|-----------|-----------|-----------|\n",
      "        Asia |        20 |        15 |        35 | \n",
      "             |     0.686 |     1.509 |           | \n",
      "             |     0.571 |     0.429 |     0.365 | \n",
      "             |     0.303 |     0.500 |           | \n",
      "             |     0.208 |     0.156 |           | \n",
      "-------------|-----------|-----------|-----------|\n",
      "   N America |        46 |        15 |        61 | \n",
      "             |     0.394 |     0.866 |           | \n",
      "             |     0.754 |     0.246 |     0.635 | \n",
      "             |     0.697 |     0.500 |           | \n",
      "             |     0.479 |     0.156 |           | \n",
      "-------------|-----------|-----------|-----------|\n",
      "Column Total |        66 |        30 |        96 | \n",
      "             |     0.688 |     0.312 |           | \n",
      "-------------|-----------|-----------|-----------|\n",
      "\n",
      " \n"
     ]
    }
   ],
   "source": [
    "library(gmodels)\n",
    "CrossTable(table(safety$Region, safety$Unsafe))"
   ]
  },
  {
   "cell_type": "code",
   "execution_count": 5,
   "metadata": {
    "vscode": {
     "languageId": "r"
    }
   },
   "outputs": [
    {
     "data": {
      "text/plain": [
       "\n",
       "\tPearson's Chi-squared test with Yates' continuity correction\n",
       "\n",
       "data:  table(safety$Region, safety$Unsafe)\n",
       "X-squared = 2.6562, df = 1, p-value = 0.1031\n"
      ]
     },
     "metadata": {},
     "output_type": "display_data"
    }
   ],
   "source": [
    "chisq.test(table(safety$Region, safety$Unsafe))"
   ]
  },
  {
   "cell_type": "code",
   "execution_count": 6,
   "metadata": {
    "vscode": {
     "languageId": "r"
    }
   },
   "outputs": [
    {
     "name": "stderr",
     "output_type": "stream",
     "text": [
      "Registered S3 method overwritten by 'DescTools':\n",
      "  method         from \n",
      "  reorder.factor gdata\n",
      "\n"
     ]
    },
    {
     "data": {
      "text/html": [
       "0.434782608695652"
      ],
      "text/latex": [
       "0.434782608695652"
      ],
      "text/markdown": [
       "0.434782608695652"
      ],
      "text/plain": [
       "[1] 0.4347826"
      ]
     },
     "metadata": {},
     "output_type": "display_data"
    }
   ],
   "source": [
    "library(DescTools) \n",
    "OddsRatio(table(safety$Region, safety$Unsafe))"
   ]
  },
  {
   "cell_type": "markdown",
   "metadata": {},
   "source": [
    "c. Examine the association between Size and Unsafe.\n",
    "\n",
    "a. What is the appropriate test to use for association?\n",
    "\n",
    "Mantel-Haenszel\n",
    "\n",
    "i. At an alpha of 0.05, what is your decision?\n",
    "\n",
    "There is a significant association between car size and car safety\n",
    "\n",
    "b. How strong is the association between these variables?\n",
    "\n",
    "Using Spearman's Correlation,"
   ]
  },
  {
   "cell_type": "code",
   "execution_count": 7,
   "metadata": {
    "vscode": {
     "languageId": "r"
    }
   },
   "outputs": [
    {
     "name": "stdout",
     "output_type": "stream",
     "text": [
      "\n",
      " \n",
      "   Cell Contents\n",
      "|-------------------------|\n",
      "|                       N |\n",
      "| Chi-square contribution |\n",
      "|           N / Row Total |\n",
      "|           N / Col Total |\n",
      "|         N / Table Total |\n",
      "|-------------------------|\n",
      "\n",
      " \n",
      "Total Observations in Table:  96 \n",
      "\n",
      " \n",
      "             |  \n",
      "             |         0 |         1 | Row Total | \n",
      "-------------|-----------|-----------|-----------|\n",
      "           1 |        12 |        23 |        35 | \n",
      "             |     6.047 |    13.303 |           | \n",
      "             |     0.343 |     0.657 |     0.365 | \n",
      "             |     0.182 |     0.767 |           | \n",
      "             |     0.125 |     0.240 |           | \n",
      "-------------|-----------|-----------|-----------|\n",
      "           2 |        24 |         5 |        29 | \n",
      "             |     0.828 |     1.821 |           | \n",
      "             |     0.828 |     0.172 |     0.302 | \n",
      "             |     0.364 |     0.167 |           | \n",
      "             |     0.250 |     0.052 |           | \n",
      "-------------|-----------|-----------|-----------|\n",
      "           3 |        30 |         2 |        32 | \n",
      "             |     2.909 |     6.400 |           | \n",
      "             |     0.938 |     0.062 |     0.333 | \n",
      "             |     0.455 |     0.067 |           | \n",
      "             |     0.312 |     0.021 |           | \n",
      "-------------|-----------|-----------|-----------|\n",
      "Column Total |        66 |        30 |        96 | \n",
      "             |     0.688 |     0.312 |           | \n",
      "-------------|-----------|-----------|-----------|\n",
      "\n",
      " \n"
     ]
    }
   ],
   "source": [
    "CrossTable(table(safety$Size, safety$Unsafe))"
   ]
  },
  {
   "cell_type": "code",
   "execution_count": 9,
   "metadata": {
    "vscode": {
     "languageId": "r"
    }
   },
   "outputs": [
    {
     "data": {
      "text/html": [
       "<style>\n",
       ".dl-inline {width: auto; margin:0; padding: 0}\n",
       ".dl-inline>dt, .dl-inline>dd {float: none; width: auto; display: inline-block}\n",
       ".dl-inline>dt::after {content: \":\\0020\"; padding-right: .5ex}\n",
       ".dl-inline>dt:not(:first-of-type) {padding-left: .5ex}\n",
       "</style><dl class=dl-inline><dt>Chisq</dt><dd>27.7097787779712</dd><dt>Df</dt><dd>1</dd><dt>Prob</dt><dd>1.4094841764127e-07</dd></dl>\n"
      ],
      "text/latex": [
       "\\begin{description*}\n",
       "\\item[Chisq] 27.7097787779712\n",
       "\\item[Df] 1\n",
       "\\item[Prob] 1.4094841764127e-07\n",
       "\\end{description*}\n"
      ],
      "text/markdown": [
       "Chisq\n",
       ":   27.7097787779712Df\n",
       ":   1Prob\n",
       ":   1.4094841764127e-07\n",
       "\n"
      ],
      "text/plain": [
       "       Chisq           Df         Prob \n",
       "2.770978e+01 1.000000e+00 1.409484e-07 "
      ]
     },
     "metadata": {},
     "output_type": "display_data"
    }
   ],
   "source": [
    "library(vcdExtra) \n",
    "CMHtest(table(safety$Size, safety$Unsafe))$table[1,]"
   ]
  },
  {
   "cell_type": "code",
   "execution_count": 10,
   "metadata": {
    "vscode": {
     "languageId": "r"
    }
   },
   "outputs": [
    {
     "name": "stderr",
     "output_type": "stream",
     "text": [
      "Warning message in cor.test.default(x = as.numeric(ordered(safety$Size)), y = as.numeric(ordered(safety$Unsafe)), :\n",
      "\"Cannot compute exact p-value with ties\"\n"
     ]
    },
    {
     "data": {
      "text/plain": [
       "\n",
       "\tSpearman's rank correlation rho\n",
       "\n",
       "data:  as.numeric(ordered(safety$Size)) and as.numeric(ordered(safety$Unsafe))\n",
       "S = 227423, p-value = 1.136e-08\n",
       "alternative hypothesis: true rho is not equal to 0\n",
       "sample estimates:\n",
       "       rho \n",
       "-0.5424769 \n"
      ]
     },
     "metadata": {},
     "output_type": "display_data"
    }
   ],
   "source": [
    "cor.test(x = as.numeric(ordered(safety$Size)),\n",
    "         y = as.numeric(ordered(safety$Unsafe)), \n",
    "         method = \"spearman\")"
   ]
  },
  {
   "cell_type": "code",
   "execution_count": null,
   "metadata": {
    "vscode": {
     "languageId": "r"
    }
   },
   "outputs": [],
   "source": []
  }
 ],
 "metadata": {
  "kernelspec": {
   "display_name": "R",
   "language": "R",
   "name": "ir"
  },
  "language_info": {
   "codemirror_mode": "r",
   "file_extension": ".r",
   "mimetype": "text/x-r-source",
   "name": "R",
   "pygments_lexer": "r",
   "version": "4.4.0"
  }
 },
 "nbformat": 4,
 "nbformat_minor": 2
}
