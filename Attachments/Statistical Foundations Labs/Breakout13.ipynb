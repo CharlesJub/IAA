{
 "cells": [
  {
   "cell_type": "code",
   "execution_count": 4,
   "metadata": {
    "vscode": {
     "languageId": "r"
    }
   },
   "outputs": [
    {
     "name": "stderr",
     "output_type": "stream",
     "text": [
      "-- \u001b[1mAttaching core tidyverse packages\u001b[22m ------------------------ tidyverse 2.0.0 --\n",
      "\u001b[32mv\u001b[39m \u001b[34mdplyr    \u001b[39m 1.1.4     \u001b[32mv\u001b[39m \u001b[34mreadr    \u001b[39m 2.1.5\n",
      "\u001b[32mv\u001b[39m \u001b[34mforcats  \u001b[39m 1.0.0     \u001b[32mv\u001b[39m \u001b[34mstringr  \u001b[39m 1.5.1\n",
      "\u001b[32mv\u001b[39m \u001b[34mggplot2  \u001b[39m 3.5.1     \u001b[32mv\u001b[39m \u001b[34mtibble   \u001b[39m 3.2.1\n",
      "\u001b[32mv\u001b[39m \u001b[34mlubridate\u001b[39m 1.9.3     \u001b[32mv\u001b[39m \u001b[34mtidyr    \u001b[39m 1.3.1\n",
      "\u001b[32mv\u001b[39m \u001b[34mpurrr    \u001b[39m 1.0.2     \n",
      "-- \u001b[1mConflicts\u001b[22m ------------------------------------------ tidyverse_conflicts() --\n",
      "\u001b[31mx\u001b[39m \u001b[34mdplyr\u001b[39m::\u001b[32mfilter()\u001b[39m masks \u001b[34mstats\u001b[39m::filter()\n",
      "\u001b[31mx\u001b[39m \u001b[34mdplyr\u001b[39m::\u001b[32mlag()\u001b[39m    masks \u001b[34mstats\u001b[39m::lag()\n",
      "\u001b[36mi\u001b[39m Use the conflicted package (\u001b[3m\u001b[34m<http://conflicted.r-lib.org/>\u001b[39m\u001b[23m) to force all conflicts to become errors\n"
     ]
    }
   ],
   "source": [
    "library(tidyverse)"
   ]
  },
  {
   "cell_type": "code",
   "execution_count": 5,
   "metadata": {
    "vscode": {
     "languageId": "r"
    }
   },
   "outputs": [],
   "source": [
    "bike <- read.csv('https://raw.githubusercontent.com/IAA-Faculty/statistical_foundations/master/bike.csv')"
   ]
  },
  {
   "cell_type": "markdown",
   "metadata": {},
   "source": [
    "1. Run the following code to get the training and test split:"
   ]
  },
  {
   "cell_type": "code",
   "execution_count": 6,
   "metadata": {
    "vscode": {
     "languageId": "r"
    }
   },
   "outputs": [],
   "source": [
    "set.seed(123) \n",
    "bike <- bike %>% mutate(id = row_number()) \n",
    "train <- bike %>% sample_frac(0.7)\n",
    "test <- anti_join(bike, train, by = \"id\")"
   ]
  },
  {
   "cell_type": "markdown",
   "metadata": {},
   "source": [
    "2. There are abnormal times where the number of casual users is greater than or equal to the number of registered users. You can use the following code to create a variable casual_high that captures this"
   ]
  },
  {
   "cell_type": "code",
   "execution_count": 7,
   "metadata": {
    "vscode": {
     "languageId": "r"
    }
   },
   "outputs": [],
   "source": [
    "train$casual_high <- train$casual >= train$registered"
   ]
  },
  {
   "cell_type": "code",
   "execution_count": 11,
   "metadata": {
    "vscode": {
     "languageId": "r"
    }
   },
   "outputs": [
    {
     "name": "stdout",
     "output_type": "stream",
     "text": [
      "'data.frame':\t12165 obs. of  18 variables:\n",
      " $ dteday     : int  15103 15055 15119 15465 15177 15260 15653 15093 15506 15363 ...\n",
      " $ season     : int  2 2 2 2 3 4 4 2 2 1 ...\n",
      " $ yr         : int  0 0 0 1 0 0 1 0 1 1 ...\n",
      " $ mnth       : int  5 3 5 5 7 10 11 4 6 1 ...\n",
      " $ hr         : int  7 11 8 2 6 15 17 18 16 14 ...\n",
      " $ holiday    : int  0 0 0 0 0 0 0 0 0 0 ...\n",
      " $ weekday    : int  1 2 3 6 5 4 5 5 5 2 ...\n",
      " $ workingday : int  1 1 1 0 1 1 1 1 1 1 ...\n",
      " $ weathersit : int  1 1 1 1 1 1 1 1 1 1 ...\n",
      " $ temp       : num  0.48 0.44 0.64 0.58 0.76 0.66 0.42 0.52 0.72 0.36 ...\n",
      " $ atemp      : num  0.47 0.439 0.606 0.545 0.742 ...\n",
      " $ hum        : num  0.63 0.51 0.69 0.88 0.75 0.78 0.44 0.48 0.37 0.81 ...\n",
      " $ windspeed  : num  0.2537 0.3284 0.2239 0 0.0896 ...\n",
      " $ casual     : int  16 22 36 24 13 27 61 55 132 35 ...\n",
      " $ registered : int  221 64 495 51 83 128 593 384 426 138 ...\n",
      " $ cnt        : int  237 86 531 75 96 155 654 439 558 173 ...\n",
      " $ id         : int  2986 1842 3371 11638 4761 6746 16128 2757 12636 9209 ...\n",
      " $ casual_high: logi  FALSE FALSE FALSE FALSE FALSE FALSE ...\n"
     ]
    }
   ],
   "source": [
    "train  %>% str()"
   ]
  },
  {
   "cell_type": "code",
   "execution_count": 12,
   "metadata": {
    "vscode": {
     "languageId": "r"
    }
   },
   "outputs": [],
   "source": [
    "train <- train  %>% mutate(across(c(season, yr, mnth, hr, holiday, weekday, workingday, weathersit), as.factor))"
   ]
  },
  {
   "cell_type": "code",
   "execution_count": 13,
   "metadata": {
    "vscode": {
     "languageId": "r"
    }
   },
   "outputs": [
    {
     "ename": "ERROR",
     "evalue": "Error in eval(expr, envir, enclos): object '.' not found\n",
     "output_type": "error",
     "traceback": [
      "Error in eval(expr, envir, enclos): object '.' not found\nTraceback:\n"
     ]
    }
   ],
   "source": []
  },
  {
   "cell_type": "code",
   "execution_count": 17,
   "metadata": {
    "vscode": {
     "languageId": "r"
    }
   },
   "outputs": [],
   "source": [
    "bike_logit <- glm(casual_high ~ . -season - cnt - casual - registered - id - dteday, data = train, family = binomial(link = \"logit\"))\n"
   ]
  },
  {
   "cell_type": "code",
   "execution_count": 16,
   "metadata": {
    "vscode": {
     "languageId": "r"
    }
   },
   "outputs": [
    {
     "data": {
      "text/plain": [
       "\n",
       "Call:\n",
       "glm(formula = casual_high ~ . - cnt - casual - registered - id - \n",
       "    dteday, family = binomial(link = \"logit\"), data = train)\n",
       "\n",
       "Coefficients: (1 not defined because of singularities)\n",
       "             Estimate Std. Error z value Pr(>|z|)    \n",
       "(Intercept)   -4.1726     0.6174  -6.758 1.40e-11 ***\n",
       "season2       -0.3381     0.3869  -0.874 0.382210    \n",
       "season3       -1.1607     0.6317  -1.837 0.066159 .  \n",
       "season4       -2.0484     0.5698  -3.595 0.000324 ***\n",
       "yr1           -0.9707     0.1369  -7.088 1.36e-12 ***\n",
       "mnth2         -0.4161     0.4501  -0.924 0.355325    \n",
       "mnth3          0.9741     0.3754   2.595 0.009462 ** \n",
       "mnth4          1.1471     0.5478   2.094 0.036278 *  \n",
       "mnth5          1.0465     0.5846   1.790 0.073418 .  \n",
       "mnth6         -0.2127     0.6467  -0.329 0.742247    \n",
       "mnth7          1.2257     0.8058   1.521 0.128257    \n",
       "mnth8          0.3263     0.8261   0.395 0.692875    \n",
       "mnth9          1.4781     0.7487   1.974 0.048353 *  \n",
       "mnth10         1.7537     0.7081   2.477 0.013267 *  \n",
       "mnth11         2.0673     0.6933   2.982 0.002865 ** \n",
       "mnth12         0.7652     0.4228   1.810 0.070273 .  \n",
       "hr1            1.1827     0.4810   2.459 0.013939 *  \n",
       "hr2            2.1771     0.4504   4.833 1.34e-06 ***\n",
       "hr3            2.2511     0.4471   5.035 4.77e-07 ***\n",
       "hr4            2.3963     0.4452   5.382 7.35e-08 ***\n",
       "hr5            1.1481     0.4893   2.346 0.018958 *  \n",
       "hr6            0.1450     0.5859   0.247 0.804590    \n",
       "hr7           -0.6456     0.7141  -0.904 0.365964    \n",
       "hr8          -15.0372   444.9233  -0.034 0.973039    \n",
       "hr9           -1.7979     1.0849  -1.657 0.097476 .  \n",
       "hr10          -0.1495     0.5889  -0.254 0.799625    \n",
       "hr11           0.2992     0.5422   0.552 0.580978    \n",
       "hr12          -0.4595     0.6205  -0.741 0.458995    \n",
       "hr13           0.7247     0.5048   1.436 0.151093    \n",
       "hr14           0.9569     0.4915   1.947 0.051519 .  \n",
       "hr15           0.9391     0.4923   1.908 0.056436 .  \n",
       "hr16           0.3155     0.5325   0.593 0.553462    \n",
       "hr17          -0.0963     0.5761  -0.167 0.867242    \n",
       "hr18          -1.3240     0.8292  -1.597 0.110336    \n",
       "hr19          -0.3714     0.6178  -0.601 0.547706    \n",
       "hr20          -1.2893     0.8248  -1.563 0.118010    \n",
       "hr21          -1.9591     1.0852  -1.805 0.071033 .  \n",
       "hr22          -1.8881     1.0852  -1.740 0.081890 .  \n",
       "hr23         -15.0661   443.2466  -0.034 0.972885    \n",
       "holiday1       1.2369     0.2725   4.539 5.65e-06 ***\n",
       "weekday1      -0.5337     0.2109  -2.530 0.011393 *  \n",
       "weekday2      -0.7854     0.2157  -3.642 0.000271 ***\n",
       "weekday3      -1.5968     0.2800  -5.703 1.18e-08 ***\n",
       "weekday4      -1.3202     0.2472  -5.340 9.29e-08 ***\n",
       "weekday5      -1.4577     0.2570  -5.673 1.40e-08 ***\n",
       "weekday6      -0.3951     0.1933  -2.044 0.040955 *  \n",
       "workingday1        NA         NA      NA       NA    \n",
       "weathersit2   -0.3137     0.1647  -1.904 0.056858 .  \n",
       "weathersit3    0.3078     0.2556   1.204 0.228428    \n",
       "weathersit4  -14.2938  7229.3334  -0.002 0.998422    \n",
       "temp          -2.3910     2.9435  -0.812 0.416627    \n",
       "atemp          4.8672     3.1747   1.533 0.125242    \n",
       "hum           -0.5439     0.4420  -1.231 0.218477    \n",
       "windspeed     -0.4072     0.5892  -0.691 0.489467    \n",
       "---\n",
       "Signif. codes:  0 '***' 0.001 '**' 0.01 '*' 0.05 '.' 0.1 ' ' 1\n",
       "\n",
       "(Dispersion parameter for binomial family taken to be 1)\n",
       "\n",
       "    Null deviance: 2688.0  on 12164  degrees of freedom\n",
       "Residual deviance: 2098.8  on 12112  degrees of freedom\n",
       "AIC: 2204.8\n",
       "\n",
       "Number of Fisher Scoring iterations: 18\n"
      ]
     },
     "metadata": {},
     "output_type": "display_data"
    }
   ],
   "source": [
    "bike_logit  %>% summary()"
   ]
  },
  {
   "cell_type": "code",
   "execution_count": 20,
   "metadata": {
    "vscode": {
     "languageId": "r"
    }
   },
   "outputs": [
    {
     "name": "stdout",
     "output_type": "stream",
     "text": [
      "Start:  AIC=2672.65\n",
      "casual_high ~ (dteday + season + yr + mnth + hr + holiday + weekday + \n",
      "    workingday + weathersit + temp + atemp + hum + windspeed + \n",
      "    casual + registered + cnt + id) - cnt - casual - registered - \n",
      "    id - dteday\n",
      "\n",
      "\n",
      "Step:  AIC=2672.65\n",
      "casual_high ~ season + yr + mnth + hr + holiday + weekday + weathersit + \n",
      "    temp + atemp + hum + windspeed\n",
      "\n",
      "             Df Deviance    AIC\n",
      "- mnth       11   2156.1 2610.9\n",
      "- weathersit  3   2105.3 2646.6\n",
      "- season      3   2115.3 2656.7\n",
      "- windspeed   1   2099.3 2662.3\n",
      "- temp        1   2099.4 2662.5\n",
      "- hum         1   2100.3 2663.3\n",
      "- atemp       1   2101.2 2664.2\n",
      "<none>            2098.8 2672.7\n",
      "- holiday     1   2117.0 2680.0\n",
      "- weekday     6   2171.4 2680.3\n",
      "- yr          1   2153.1 2716.1\n",
      "- hr         23   2452.4 2777.2\n",
      "\n",
      "Step:  AIC=2610.89\n",
      "casual_high ~ season + yr + hr + holiday + weekday + weathersit + \n",
      "    temp + atemp + hum + windspeed\n",
      "\n",
      "             Df Deviance    AIC\n",
      "- weathersit  3   2162.3 2584.6\n",
      "- windspeed   1   2156.1 2600.1\n",
      "- hum         1   2156.4 2600.3\n",
      "- temp        1   2158.8 2602.8\n",
      "- atemp       1   2161.1 2605.0\n",
      "- season      3   2183.4 2605.7\n",
      "<none>            2156.1 2610.9\n",
      "- weekday     6   2228.7 2618.5\n",
      "- holiday     1   2183.1 2627.0\n",
      "- yr          1   2207.7 2651.6\n",
      "- hr         23   2504.1 2709.9\n",
      "\n",
      "Step:  AIC=2584.63\n",
      "casual_high ~ season + yr + hr + holiday + weekday + temp + atemp + \n",
      "    hum + windspeed\n",
      "\n",
      "            Df Deviance    AIC\n",
      "- windspeed  1   2162.4 2573.9\n",
      "- hum        1   2162.6 2574.1\n",
      "- temp       1   2165.1 2576.5\n",
      "- atemp      1   2167.2 2578.7\n",
      "- season     3   2189.4 2579.2\n",
      "<none>           2162.3 2584.6\n",
      "- weekday    6   2233.4 2590.7\n",
      "- holiday    1   2188.6 2600.1\n",
      "- yr         1   2213.9 2625.3\n",
      "- hr        23   2512.4 2685.6\n",
      "\n",
      "Step:  AIC=2573.86\n",
      "casual_high ~ season + yr + hr + holiday + weekday + temp + atemp + \n",
      "    hum\n",
      "\n",
      "          Df Deviance    AIC\n",
      "- hum      1   2162.7 2563.4\n",
      "- temp     1   2165.1 2565.7\n",
      "- atemp    1   2167.3 2567.9\n",
      "- season   3   2190.0 2568.9\n",
      "<none>         2162.4 2573.9\n",
      "- weekday  6   2233.4 2579.9\n",
      "- holiday  1   2188.6 2589.2\n",
      "- yr       1   2213.9 2614.5\n",
      "- hr      23   2513.1 2675.5\n",
      "\n",
      "Step:  AIC=2563.36\n",
      "casual_high ~ season + yr + hr + holiday + weekday + temp + atemp\n",
      "\n",
      "          Df Deviance    AIC\n",
      "- temp     1   2165.3 2555.1\n",
      "- atemp    1   2167.5 2557.3\n",
      "- season   3   2190.8 2558.9\n",
      "<none>         2162.7 2563.4\n",
      "- weekday  6   2233.8 2569.5\n",
      "- holiday  1   2189.0 2578.8\n",
      "- yr       1   2213.9 2603.7\n",
      "- hr      23   2516.0 2667.6\n",
      "\n",
      "Step:  AIC=2555.09\n",
      "casual_high ~ season + yr + hr + holiday + weekday + atemp\n",
      "\n",
      "          Df Deviance    AIC\n",
      "- season   3   2192.7 2550.0\n",
      "- atemp    1   2173.0 2552.0\n",
      "<none>         2165.3 2555.1\n",
      "- weekday  6   2236.8 2561.7\n",
      "- holiday  1   2190.3 2569.2\n",
      "- yr       1   2217.1 2596.0\n",
      "- hr      23   2520.3 2661.0\n",
      "\n",
      "Step:  AIC=2549.96\n",
      "casual_high ~ yr + hr + holiday + weekday + atemp\n",
      "\n",
      "          Df Deviance    AIC\n",
      "<none>         2192.7 2550.0\n",
      "- atemp    1   2209.1 2555.5\n",
      "- weekday  6   2264.5 2556.8\n",
      "- holiday  1   2217.8 2564.3\n",
      "- yr       1   2243.4 2589.9\n",
      "- hr      23   2547.0 2655.2\n"
     ]
    }
   ],
   "source": [
    "full.model <- glm(casual_high ~ . - cnt - casual - registered - id - dteday, data = train, family = binomial(link = \"logit\"))\n",
    "empty.model <- glm(casual_high ~ 1, data = train, family = binomial(link = \"logit\"))\n",
    "\n",
    "back.model <- step(full.model, \n",
    "                   scope = list(lower = formula(empty.model), \n",
    "                                upper = formula(full.model)), \n",
    "                                direction = \"backward\", \n",
    "                                k = qchisq(.001, 1, lower.tail = FALSE))"
   ]
  },
  {
   "cell_type": "code",
   "execution_count": null,
   "metadata": {
    "vscode": {
     "languageId": "r"
    }
   },
   "outputs": [],
   "source": []
  }
 ],
 "metadata": {
  "kernelspec": {
   "display_name": "R",
   "language": "R",
   "name": "ir"
  },
  "language_info": {
   "codemirror_mode": "r",
   "file_extension": ".r",
   "mimetype": "text/x-r-source",
   "name": "R",
   "pygments_lexer": "r",
   "version": "4.4.0"
  }
 },
 "nbformat": 4,
 "nbformat_minor": 2
}
