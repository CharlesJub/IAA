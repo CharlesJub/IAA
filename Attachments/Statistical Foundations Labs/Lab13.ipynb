{
 "cells": [
  {
   "cell_type": "code",
   "execution_count": 9,
   "metadata": {
    "vscode": {
     "languageId": "r"
    }
   },
   "outputs": [],
   "source": [
    "safety <- read.csv('https://raw.githubusercontent.com/IAA-Faculty/statistical_foundations/master/safety.csv')"
   ]
  },
  {
   "cell_type": "code",
   "execution_count": 10,
   "metadata": {
    "vscode": {
     "languageId": "r"
    }
   },
   "outputs": [],
   "source": [
    "library(tidyverse)"
   ]
  },
  {
   "cell_type": "markdown",
   "metadata": {},
   "source": [
    "Build a logistic regression, predicting Unsafe using the variables Region, Weight, and Size. Treat Weight as a continuous variable. Treat Region and Size as categorical. Make sure to use the factor function for Size. \n",
    "\n",
    "a. Which variables were significant at the 0.05 level? \n",
    "\n",
    "Size\n",
    "\n",
    "b. What is the concordance proportion for this model?\n",
    "\n",
    "0.8477"
   ]
  },
  {
   "cell_type": "code",
   "execution_count": 11,
   "metadata": {
    "vscode": {
     "languageId": "r"
    }
   },
   "outputs": [
    {
     "name": "stdout",
     "output_type": "stream",
     "text": [
      "'data.frame':\t96 obs. of  5 variables:\n",
      " $ Unsafe: int  0 0 0 0 0 0 0 0 0 0 ...\n",
      " $ Size  : int  2 3 2 1 2 2 3 2 2 1 ...\n",
      " $ Weight: int  3 4 3 3 3 3 4 3 4 3 ...\n",
      " $ Region: chr  \"N America\" \"N America\" \"N America\" \"N America\" ...\n",
      " $ Type  : chr  \"Medium\" \"Sport/Utility\" \"Medium\" \"Small\" ...\n"
     ]
    }
   ],
   "source": [
    "safety  %>% str()\n",
    "safety <- safety  %>% mutate(across(c(Unsafe, Size, Region, Type)))"
   ]
  },
  {
   "cell_type": "code",
   "execution_count": 12,
   "metadata": {
    "vscode": {
     "languageId": "r"
    }
   },
   "outputs": [],
   "source": [
    "unsafe_glm <- glm(Unsafe ~ Region + Weight + Size, data = safety)"
   ]
  },
  {
   "cell_type": "code",
   "execution_count": 13,
   "metadata": {
    "vscode": {
     "languageId": "r"
    }
   },
   "outputs": [
    {
     "data": {
      "text/plain": [
       "\n",
       "Call:\n",
       "glm(formula = Unsafe ~ Region + Weight + Size, data = safety)\n",
       "\n",
       "Coefficients:\n",
       "                Estimate Std. Error t value Pr(>|t|)    \n",
       "(Intercept)      1.03612    0.16753   6.185 1.69e-08 ***\n",
       "RegionN America -0.03606    0.08763  -0.412    0.682    \n",
       "Weight          -0.05675    0.06034  -0.940    0.349    \n",
       "Size            -0.26194    0.06066  -4.318 3.96e-05 ***\n",
       "---\n",
       "Signif. codes:  0 '***' 0.001 '**' 0.01 '*' 0.05 '.' 0.1 ' ' 1\n",
       "\n",
       "(Dispersion parameter for gaussian family taken to be 0.1569518)\n",
       "\n",
       "    Null deviance: 20.625  on 95  degrees of freedom\n",
       "Residual deviance: 14.440  on 92  degrees of freedom\n",
       "AIC: 100.58\n",
       "\n",
       "Number of Fisher Scoring iterations: 2\n"
      ]
     },
     "metadata": {},
     "output_type": "display_data"
    }
   ],
   "source": [
    "unsafe_glm  %>% summary()"
   ]
  },
  {
   "cell_type": "code",
   "execution_count": 15,
   "metadata": {
    "vscode": {
     "languageId": "r"
    }
   },
   "outputs": [
    {
     "data": {
      "text/plain": [
       "Call:\n",
       "concordance.lm(object = unsafe_glm)\n",
       "\n",
       "n= 96 \n",
       "Concordance= 0.8477 se= 0.03952\n",
       "concordant discordant     tied.x     tied.y    tied.xy \n",
       "      1621        244        115       2273        307 "
      ]
     },
     "metadata": {},
     "output_type": "display_data"
    }
   ],
   "source": [
    "library(survival) \n",
    "survival::concordance(unsafe_glm)"
   ]
  },
  {
   "cell_type": "code",
   "execution_count": 17,
   "metadata": {
    "vscode": {
     "languageId": "r"
    }
   },
   "outputs": [
    {
     "name": "stdout",
     "output_type": "stream",
     "text": [
      "Start:  AIC=100.45\n",
      "Unsafe ~ Region + Weight + Size\n",
      "\n",
      "         Df Deviance     AIC\n",
      "- Region  1   85.374  96.898\n",
      "- Weight  1   86.989  98.514\n",
      "<none>        85.085 100.451\n",
      "- Size    1  101.329 112.854\n",
      "\n",
      "Step:  AIC=96.9\n",
      "Unsafe ~ Weight + Size\n",
      "\n",
      "         Df Deviance     AIC\n",
      "- Weight  1   87.343  95.026\n",
      "<none>        85.374  96.898\n",
      "- Size    1  102.764 110.447\n",
      "\n",
      "Step:  AIC=95.03\n",
      "Unsafe ~ Size\n",
      "\n",
      "       Df Deviance     AIC\n",
      "<none>      87.343  95.026\n",
      "- Size  1  119.249 123.090\n"
     ]
    }
   ],
   "source": [
    "full.model <- glm(Unsafe ~ Region + Weight + Size, data = safety, family = binomial(link = \"logit\"))\n",
    "empty.model <- glm(Unsafe ~ 1, data = safety, family = binomial(link = \"logit\"))\n",
    "\n",
    "back.model <- step(full.model, \n",
    "                   scope = list(lower = formula(empty.model), \n",
    "                                upper = formula(full.model)), \n",
    "                                direction = \"backward\", \n",
    "                                k = qchisq(.05, 1, lower.tail = FALSE))"
   ]
  },
  {
   "cell_type": "code",
   "execution_count": 18,
   "metadata": {
    "vscode": {
     "languageId": "r"
    }
   },
   "outputs": [
    {
     "data": {
      "text/plain": [
       "Call:\n",
       "concordance.lm(object = back.model)\n",
       "\n",
       "n= 96 \n",
       "Concordance= 0.8182 se= 0.043\n",
       "concordant discordant     tied.x     tied.y    tied.xy \n",
       "      1392        132        456       1539       1041 "
      ]
     },
     "metadata": {},
     "output_type": "display_data"
    }
   ],
   "source": [
    "survival::concordance(back.model)"
   ]
  },
  {
   "cell_type": "code",
   "execution_count": 1,
   "metadata": {
    "vscode": {
     "languageId": "r"
    }
   },
   "outputs": [
    {
     "ename": "ERROR",
     "evalue": "Error in eval(expr, envir, enclos): object 'back.model' not found\n",
     "output_type": "error",
     "traceback": [
      "Error in eval(expr, envir, enclos): object 'back.model' not found\nTraceback:\n",
      "1. cbind(coef(back.model), confint(back.model))",
      "2. coef(back.model)"
     ]
    }
   ],
   "source": [
    "100*(exp(cbind(coef(back.model), confint(back.model)))-1)"
   ]
  },
  {
   "cell_type": "code",
   "execution_count": null,
   "metadata": {
    "vscode": {
     "languageId": "r"
    }
   },
   "outputs": [],
   "source": []
  }
 ],
 "metadata": {
  "kernelspec": {
   "display_name": "R",
   "language": "R",
   "name": "ir"
  },
  "language_info": {
   "codemirror_mode": "r",
   "file_extension": ".r",
   "mimetype": "text/x-r-source",
   "name": "R",
   "pygments_lexer": "r",
   "version": "4.4.0"
  }
 },
 "nbformat": 4,
 "nbformat_minor": 2
}
